{
 "cells": [
  {
   "cell_type": "code",
   "execution_count": 1,
   "metadata": {},
   "outputs": [
    {
     "name": "stderr",
     "output_type": "stream",
     "text": [
      "/Users/huzuoliang/app/Anaconda/anaconda/envs/tensorflow/lib/python3.6/importlib/_bootstrap.py:205: RuntimeWarning: compiletime version 3.5 of module 'tensorflow.python.framework.fast_tensor_util' does not match runtime version 3.6\n",
      "  return f(*args, **kwds)\n"
     ]
    }
   ],
   "source": [
    "import numpy as np\n",
    "import matplotlib.pyplot as plt\n",
    "import tensorflow as tf\n",
    "import xlrd"
   ]
  },
  {
   "cell_type": "code",
   "execution_count": 4,
   "metadata": {},
   "outputs": [],
   "source": [
    "Data_File = '/Users/huzuoliang/mining/tensflow/slr05.xls'"
   ]
  },
  {
   "cell_type": "code",
   "execution_count": 5,
   "metadata": {},
   "outputs": [],
   "source": [
    "book = xlrd.open_workbook(Data_File, encoding_override='utf-8')"
   ]
  },
  {
   "cell_type": "code",
   "execution_count": 7,
   "metadata": {},
   "outputs": [],
   "source": [
    "sheet = book.sheet_by_index(0)"
   ]
  },
  {
   "cell_type": "code",
   "execution_count": 8,
   "metadata": {},
   "outputs": [],
   "source": [
    "data = np.asarray([sheet.row_values(i) for i in range(1, sheet.nrows)])"
   ]
  },
  {
   "cell_type": "code",
   "execution_count": 10,
   "metadata": {},
   "outputs": [],
   "source": [
    "n_samples = sheet.nrows - 1"
   ]
  },
  {
   "cell_type": "code",
   "execution_count": 11,
   "metadata": {},
   "outputs": [],
   "source": [
    "X = tf.placeholder(tf.float32, name = 'X')\n",
    "Y = tf.placeholder(tf.float32, name = 'Y')"
   ]
  },
  {
   "cell_type": "code",
   "execution_count": 12,
   "metadata": {},
   "outputs": [],
   "source": [
    "w = tf.Variable(0.0, name = 'weights')\n",
    "b = tf.Variable(0.0, name = 'bias')"
   ]
  },
  {
   "cell_type": "code",
   "execution_count": 13,
   "metadata": {},
   "outputs": [],
   "source": [
    "Y_predicted = X * w + b"
   ]
  },
  {
   "cell_type": "code",
   "execution_count": 14,
   "metadata": {},
   "outputs": [],
   "source": [
    "loss = tf.square(Y - Y_predicted, name = 'loss')"
   ]
  },
  {
   "cell_type": "code",
   "execution_count": 15,
   "metadata": {},
   "outputs": [],
   "source": [
    "optimizer = tf.train.GradientDescentOptimizer(learning_rate=0.001).minimize(loss)"
   ]
  },
  {
   "cell_type": "code",
   "execution_count": 97,
   "metadata": {
    "scrolled": true
   },
   "outputs": [
    {
     "name": "stdout",
     "output_type": "stream",
     "text": [
      "w:3.03184 b:0.633049 loss:1574.480901\n",
      "w:2.99433 b:1.06587 loss:1574.480901\n",
      "w:2.95782 b:1.48719 loss:1574.480901\n",
      "w:2.92227 b:1.89731 loss:1574.480901\n",
      "w:2.88768 b:2.29653 loss:1574.480901\n",
      "w:2.854 b:2.68515 loss:1574.480901\n",
      "w:2.82122 b:3.06344 loss:1574.480901\n",
      "w:2.7893 b:3.43168 loss:1574.480901\n",
      "w:2.75824 b:3.79013 loss:1574.480901\n",
      "w:2.728 b:4.13906 loss:1574.480901\n"
     ]
    }
   ],
   "source": [
    "\n",
    "with tf.Session() as sess:\n",
    "    sess.run(tf.global_variables_initializer())\n",
    "    for i in range(10):\n",
    "        loss_value = 0\n",
    "        for x,y in data:\n",
    "            sess.run(optimizer, feed_dict={X:x,Y:y})\n",
    "        w_value,b_value = sess.run([w, b])\n",
    "        for x,y in data: \n",
    "            loss_value = loss_value + 1.62071*x+16.9162 #sess.run(Y_predicted, feed_dict={X:x})\n",
    "\n",
    "        print('w:' + str(w_value) + ' b:' + str(b_value)+' loss:'+ str(loss_value))"
   ]
  },
  {
   "cell_type": "code",
   "execution_count": 37,
   "metadata": {},
   "outputs": [
    {
     "name": "stdout",
     "output_type": "stream",
     "text": [
      "1.62028\n"
     ]
    }
   ],
   "source": [
    "py1 = w_value * 0 + b_value\n",
    "pyn = w_value * 40 + b_value"
   ]
  },
  {
   "cell_type": "code",
   "execution_count": 42,
   "metadata": {},
   "outputs": [
    {
     "data": {
      "image/png": "[encoded data removed]",
      "text/plain": [
       "<matplotlib.figure.Figure at 0x11c593320>"
      ]
     },
     "metadata": {},
     "output_type": "display_data"
    }
   ],
   "source": [
    "fig = plt.figure()\n",
    "ax1 = fig.add_subplot(111)\n",
    "ax1.plot(data[:,0],data[:,1],'*')\n",
    "ax1.plot(np.array([0,40]),np.array([py1,pyn]), '-')\n",
    "plt.show()"
   ]
  },
  {
   "cell_type": "code",
   "execution_count": 7,
   "metadata": {},
   "outputs": [],
   "source": [
    "x_input = np.linspace(-1,1,100)\n",
    "y_input = x_input * 3 + np.random.rand(x_input.shape[0])*0.5"
   ]
  },
  {
   "cell_type": "code",
   "execution_count": 10,
   "metadata": {},
   "outputs": [
    {
     "data": {
      "image/png": "[encoded data removed]",
      "text/plain": [
       "<matplotlib.figure.Figure at 0x11ac15cc0>"
      ]
     },
     "metadata": {},
     "output_type": "display_data"
    }
   ],
   "source": [
    "fig = plt.figure()\n",
    "f = fig.add_subplot(111)\n",
    "f.plot(x_input,y_input,'*')\n",
    "plt.show()"
   ]
  },
  {
   "cell_type": "code",
   "execution_count": 19,
   "metadata": {},
   "outputs": [
    {
     "name": "stdout",
     "output_type": "stream",
     "text": [
      "w:3.02201 b:0.241595\n"
     ]
    }
   ],
   "source": [
    "with tf.Session() as sess:\n",
    "    sess.run(tf.global_variables_initializer())\n",
    "    for i in range(10000):\n",
    "        loss_value = 0\n",
    "        sess.run(optimizer, feed_dict={X:x_input,Y:y_input})\n",
    "    w_value,b_value = sess.run([w, b])\n",
    "print('w:' + str(w_value) + ' b:' + str(b_value))"
   ]
  },
  {
   "cell_type": "code",
   "execution_count": 21,
   "metadata": {},
   "outputs": [],
   "source": [
    "global_step = tf.Variable(0,trainable=False,dtype=tf.int32)"
   ]
  },
  {
   "cell_type": "code",
   "execution_count": 22,
   "metadata": {},
   "outputs": [],
   "source": [
    "learning_rate=0.01 * 0.99 ** tf.cast(global_step,tf.float32)"
   ]
  },
  {
   "cell_type": "code",
   "execution_count": 23,
   "metadata": {},
   "outputs": [
    {
     "data": {
      "text/plain": [
       "<tf.Tensor 'mul_1:0' shape=() dtype=float32>"
      ]
     },
     "execution_count": 23,
     "metadata": {},
     "output_type": "execute_result"
    }
   ],
   "source": [
    "increment_step = global_step.assign_add(1)"
   ]
  },
  {
   "cell_type": "code",
   "execution_count": 25,
   "metadata": {},
   "outputs": [],
   "source": [
    "optimizer = tf.train.GradientDescentOptimizer(learning_rate) # learning rate can be a tensor"
   ]
  },
  {
   "cell_type": "code",
   "execution_count": 26,
   "metadata": {
    "collapsed": true,
    "slideshow": {
     "slide_type": "-"
    }
   },
   "outputs": [
    {
     "ename": "NameError",
     "evalue": "name 'GradientDescentOptimizer' is not defined",
     "output_type": "error",
     "traceback": [
      "\u001b[0;31m---------------------------------------------------------------------------\u001b[0m",
      "\u001b[0;31mNameError\u001b[0m                                 Traceback (most recent call last)",
      "\u001b[0;32m<ipython-input-26-1707f9385da7>\u001b[0m in \u001b[0;36m<module>\u001b[0;34m()\u001b[0m\n\u001b[0;32m----> 1\u001b[0;31m \u001b[0moptimizer\u001b[0m \u001b[0;34m=\u001b[0m \u001b[0mGradientDescentOptimizer\u001b[0m\u001b[0;34m(\u001b[0m\u001b[0mlearning_rate\u001b[0m\u001b[0;34m=\u001b[0m\u001b[0;36m0.1\u001b[0m\u001b[0;34m)\u001b[0m\u001b[0;34m\u001b[0m\u001b[0m\n\u001b[0m",
      "\u001b[0;31mNameError\u001b[0m: name 'GradientDescentOptimizer' is not defined"
     ]
    }
   ],
   "source": [
    "optimizer = GradientDescentOptimizer(learning_rate=0.1)"
   ]
  },
  {
   "cell_type": "code",
   "execution_count": 2,
   "metadata": {},
   "outputs": [
    {
     "name": "stdout",
     "output_type": "stream",
     "text": [
      "Extracting /Users/huzuoliang/Desktop/train_set/mnist/train-images-idx3-ubyte.gz\n",
      "Extracting /Users/huzuoliang/Desktop/train_set/mnist/train-labels-idx1-ubyte.gz\n",
      "Extracting /Users/huzuoliang/Desktop/train_set/mnist/t10k-images-idx3-ubyte.gz\n",
      "Extracting /Users/huzuoliang/Desktop/train_set/mnist/t10k-labels-idx1-ubyte.gz\n"
     ]
    }
   ],
   "source": [
    "from tensorflow.examples.tutorials.mnist import input_data \n",
    "MNIST = input_data.read_data_sets(\"/Users/huzuoliang/Desktop/train_set/mnist\", one_hot=True)"
   ]
  },
  {
   "cell_type": "code",
   "execution_count": 60,
   "metadata": {},
   "outputs": [],
   "source": [
    "learning_rate = 0.01\n",
    "batch_size = 16\n",
    "n_epochs = 1"
   ]
  },
  {
   "cell_type": "code",
   "execution_count": 61,
   "metadata": {},
   "outputs": [],
   "source": [
    "X = tf.placeholder(tf.float32,[batch_size,784])\n",
    "Y = tf.placeholder(tf.float32,[batch_size,10])"
   ]
  },
  {
   "cell_type": "code",
   "execution_count": 62,
   "metadata": {},
   "outputs": [],
   "source": [
    "X1 = tf.placeholder(tf.float32,[None,784])"
   ]
  },
  {
   "cell_type": "code",
   "execution_count": 63,
   "metadata": {},
   "outputs": [],
   "source": [
    "w = tf.Variable(tf.random_normal(shape=[784,10],stddev=0.01),name='weigths')"
   ]
  },
  {
   "cell_type": "code",
   "execution_count": 64,
   "metadata": {},
   "outputs": [],
   "source": [
    "b = tf.Variable(tf.zeros([1,10]),name='bias')"
   ]
  },
  {
   "cell_type": "code",
   "execution_count": 65,
   "metadata": {},
   "outputs": [],
   "source": [
    "logits = tf.matmul(X,w)+b"
   ]
  },
  {
   "cell_type": "code",
   "execution_count": 66,
   "metadata": {},
   "outputs": [],
   "source": [
    "entropy = tf.nn.softmax_cross_entropy_with_logits(logits=logits,labels=Y)"
   ]
  },
  {
   "cell_type": "code",
   "execution_count": 67,
   "metadata": {},
   "outputs": [],
   "source": [
    "loss = tf.reduce_mean(entropy)"
   ]
  },
  {
   "cell_type": "code",
   "execution_count": 68,
   "metadata": {},
   "outputs": [],
   "source": [
    "optimizer = tf.train.GradientDescentOptimizer(learning_rate=learning_rate).minimize(loss)"
   ]
  },
  {
   "cell_type": "code",
   "execution_count": 69,
   "metadata": {},
   "outputs": [],
   "source": [
    "init = tf.global_variables_initializer()"
   ]
  },
  {
   "cell_type": "code",
   "execution_count": 71,
   "metadata": {},
   "outputs": [
    {
     "name": "stdout",
     "output_type": "stream",
     "text": [
      "0.8391\n"
     ]
    }
   ],
   "source": [
    "lss = []\n",
    "with tf.Session() as sess:\n",
    "    sess.run(init)\n",
    "    n_batches = int(MNIST.train.num_examples/batch_size)\n",
    "    for i in range(n_epochs):\n",
    "        for _ in range(n_batches):\n",
    "            X_batch,Y_batch = MNIST.train.next_batch(batch_size)\n",
    "            _,loss_batch = sess.run([optimizer,loss],feed_dict={X:X_batch,Y:Y_batch})\n",
    "            lss.append(loss_batch)\n",
    "    w_value, b_value = sess.run([w, b])\n",
    "    n_batches = int(MNIST.test.num_examples/batch_size)\n",
    "    total_corrent_preds = 0\n",
    "    for i in range(n_batches):\n",
    "        x_batch,y_batch = MNIST.test.next_batch(batch_size)\n",
    "        _,loss_batch,logits_batch = sess.run([optimizer,loss,logits],feed_dict={X:x_batch,Y:y_batch})\n",
    "        preds = tf.nn.softmax(logits_batch)\n",
    "        correct_preds=tf.equal(tf.argmax(preds,1),tf.argmax(y_batch,1))\n",
    "        accuracy = tf.reduce_sum(tf.cast(correct_preds,tf.float32))\n",
    "        total_corrent_preds += sess.run(accuracy)\n",
    "    print(total_corrent_preds/MNIST.test.num_examples)"
   ]
  },
  {
   "cell_type": "code",
   "execution_count": 77,
   "metadata": {},
   "outputs": [
    {
     "data": {
      "image/png": "[encoded data removed]",
      "text/plain": [
       "<matplotlib.figure.Figure at 0x1831794da0>"
      ]
     },
     "metadata": {},
     "output_type": "display_data"
    }
   ],
   "source": [
    "idx = np.array(list(range(0,len(lss))))\n",
    "fig = plt.figure()\n",
    "f = fig.subplots()\n",
    "f.plot(idx,lss,'.')\n",
    "plt.show()"
   ]
  },
  {
   "cell_type": "code",
   "execution_count": 73,
   "metadata": {},
   "outputs": [
    {
     "data": {
      "text/plain": [
       "[2.2968121,\n",
       " 2.2892611,\n",
       " 2.263999,\n",
       " 2.2702179,\n",
       " 2.253243,\n",
       " 2.2387748,\n",
       " 2.2245536,\n",
       " 2.2121217,\n",
       " 2.2153845,\n",
       " 2.2015834,\n",
       " 2.1896431,\n",
       " 2.1901422,\n",
       " 2.1676702,\n",
       " 2.1546674,\n",
       " 2.1443739,\n",
       " 2.1700335,\n",
       " 2.1360507,\n",
       " 2.118463,\n",
       " 2.1238678,\n",
       " 2.0939741,\n",
       " 2.0778718,\n",
       " 2.0991116,\n",
       " 2.07441,\n",
       " 2.0847199,\n",
       " 2.0530219,\n",
       " 2.042932,\n",
       " 2.0502415,\n",
       " 2.0231824,\n",
       " 2.0223913,\n",
       " 2.0162466,\n",
       " 1.9932874,\n",
       " 1.9862155,\n",
       " 1.9849424,\n",
       " 1.9785521,\n",
       " 1.9514129,\n",
       " 1.9583061,\n",
       " 1.9028761,\n",
       " 1.9424362,\n",
       " 1.9402263,\n",
       " 1.9706688,\n",
       " 1.9385382,\n",
       " 1.9100163,\n",
       " 1.9217592,\n",
       " 1.8600554,\n",
       " 1.9094218,\n",
       " 1.891782,\n",
       " 1.8610556,\n",
       " 1.8519651,\n",
       " 1.8621781,\n",
       " 1.8626721,\n",
       " 1.8948405,\n",
       " 1.826248,\n",
       " 1.833702,\n",
       " 1.8216201,\n",
       " 1.8165653,\n",
       " 1.7957814,\n",
       " 1.7948195,\n",
       " 1.779707,\n",
       " 1.8220475,\n",
       " 1.7821578,\n",
       " 1.7700908,\n",
       " 1.8074956,\n",
       " 1.7397356,\n",
       " 1.754208,\n",
       " 1.7561316,\n",
       " 1.7490942,\n",
       " 1.7596508,\n",
       " 1.6825041,\n",
       " 1.7012678,\n",
       " 1.7091888,\n",
       " 1.7392809,\n",
       " 1.7345045,\n",
       " 1.6899072,\n",
       " 1.722257,\n",
       " 1.6830156,\n",
       " 1.7113838,\n",
       " 1.7060763,\n",
       " 1.7286843,\n",
       " 1.6705893,\n",
       " 1.6183639,\n",
       " 1.6676265,\n",
       " 1.6124958,\n",
       " 1.6520207,\n",
       " 1.6037178,\n",
       " 1.6397948,\n",
       " 1.6366111,\n",
       " 1.611563,\n",
       " 1.5853987,\n",
       " 1.5300481,\n",
       " 1.6481981,\n",
       " 1.590071,\n",
       " 1.5546963,\n",
       " 1.6542985,\n",
       " 1.5973135,\n",
       " 1.615369,\n",
       " 1.6545105,\n",
       " 1.5567598,\n",
       " 1.5411724,\n",
       " 1.5830479,\n",
       " 1.6162798,\n",
       " 1.5693365,\n",
       " 1.5796914,\n",
       " 1.5067078,\n",
       " 1.521174,\n",
       " 1.5325204,\n",
       " 1.5850494,\n",
       " 1.4949279,\n",
       " 1.4987477,\n",
       " 1.5243136,\n",
       " 1.4620254,\n",
       " 1.4900632,\n",
       " 1.4947875,\n",
       " 1.5156795,\n",
       " 1.5032135,\n",
       " 1.47212,\n",
       " 1.4760596,\n",
       " 1.4979622,\n",
       " 1.4887238,\n",
       " 1.4858301,\n",
       " 1.58152,\n",
       " 1.4452537,\n",
       " 1.4506116,\n",
       " 1.4417543,\n",
       " 1.435544,\n",
       " 1.402482,\n",
       " 1.4181101,\n",
       " 1.4595268,\n",
       " 1.3876331,\n",
       " 1.4350573,\n",
       " 1.4842746,\n",
       " 1.3686143,\n",
       " 1.4137944,\n",
       " 1.3438406,\n",
       " 1.3898206,\n",
       " 1.4062715,\n",
       " 1.406209,\n",
       " 1.3450185,\n",
       " 1.4076858,\n",
       " 1.3826363,\n",
       " 1.4365216,\n",
       " 1.4017253,\n",
       " 1.3390262,\n",
       " 1.3548353,\n",
       " 1.4114141,\n",
       " 1.3959236,\n",
       " 1.3691976,\n",
       " 1.3068365,\n",
       " 1.2803297,\n",
       " 1.3571079,\n",
       " 1.3163786,\n",
       " 1.3231878,\n",
       " 1.3479886,\n",
       " 1.2874637,\n",
       " 1.25155,\n",
       " 1.3037455,\n",
       " 1.3204801,\n",
       " 1.3556111,\n",
       " 1.3408561,\n",
       " 1.3003931,\n",
       " 1.3099513,\n",
       " 1.2624867,\n",
       " 1.3638043,\n",
       " 1.2818706,\n",
       " 1.3185208,\n",
       " 1.1962533,\n",
       " 1.2699351,\n",
       " 1.2717974,\n",
       " 1.2797462,\n",
       " 1.2688189,\n",
       " 1.3194196,\n",
       " 1.328542,\n",
       " 1.2867188,\n",
       " 1.2597963,\n",
       " 1.3165901,\n",
       " 1.2608058,\n",
       " 1.3236525,\n",
       " 1.2745785,\n",
       " 1.227141,\n",
       " 1.2575557,\n",
       " 1.250196,\n",
       " 1.2776995,\n",
       " 1.2098943,\n",
       " 1.2111223,\n",
       " 1.2735298,\n",
       " 1.189513,\n",
       " 1.2352829,\n",
       " 1.2524798,\n",
       " 1.1862584,\n",
       " 1.2340469,\n",
       " 1.2663978,\n",
       " 1.2158813,\n",
       " 1.2170098,\n",
       " 1.1987314,\n",
       " 1.1452339,\n",
       " 1.1350628,\n",
       " 1.1708668,\n",
       " 1.2028481,\n",
       " 1.1841514,\n",
       " 1.1406204,\n",
       " 1.2754967,\n",
       " 1.1326861,\n",
       " 1.193714,\n",
       " 1.1905372,\n",
       " 1.2483361,\n",
       " 1.1972941,\n",
       " 1.1687754,\n",
       " 1.1725779,\n",
       " 1.1635358,\n",
       " 1.146544,\n",
       " 1.0968027,\n",
       " 1.1855655,\n",
       " 1.1131238,\n",
       " 1.1682504,\n",
       " 1.1133676,\n",
       " 1.2277675,\n",
       " 1.1127284,\n",
       " 1.2369506,\n",
       " 1.1774105,\n",
       " 1.1449071,\n",
       " 1.1703779,\n",
       " 1.1589602,\n",
       " 1.1456745,\n",
       " 1.2228684,\n",
       " 1.2231021,\n",
       " 1.2185036,\n",
       " 1.1150457,\n",
       " 1.0642993,\n",
       " 1.0809084,\n",
       " 1.0705525,\n",
       " 1.0860536,\n",
       " 1.0595564,\n",
       " 1.1306438,\n",
       " 1.0941284,\n",
       " 1.1098475,\n",
       " 1.0418979,\n",
       " 1.0927912,\n",
       " 1.1319745,\n",
       " 1.0343553,\n",
       " 1.1306795,\n",
       " 1.1513681,\n",
       " 1.1740148,\n",
       " 1.1599433,\n",
       " 1.0354807,\n",
       " 1.1331701,\n",
       " 1.0728673,\n",
       " 1.146693,\n",
       " 1.15291,\n",
       " 1.094963,\n",
       " 1.0415735,\n",
       " 1.1335555,\n",
       " 1.1028234,\n",
       " 1.2018145,\n",
       " 1.0808079,\n",
       " 1.0386271,\n",
       " 1.1188049,\n",
       " 1.0580482,\n",
       " 1.0067958,\n",
       " 1.0928141,\n",
       " 1.0007133,\n",
       " 1.0361681,\n",
       " 1.0688521,\n",
       " 1.1938182,\n",
       " 1.0770441,\n",
       " 1.0369669,\n",
       " 1.0029576,\n",
       " 1.0337851,\n",
       " 1.0446228,\n",
       " 1.0889723,\n",
       " 1.0655313,\n",
       " 1.0550611,\n",
       " 1.0167971,\n",
       " 1.0023119,\n",
       " 1.0019774,\n",
       " 1.0507812,\n",
       " 1.046823,\n",
       " 1.0363902,\n",
       " 1.0374243,\n",
       " 1.0033283,\n",
       " 1.0774119,\n",
       " 1.051896,\n",
       " 1.0111604,\n",
       " 1.0558761,\n",
       " 1.0912549,\n",
       " 1.0196836,\n",
       " 1.1177689,\n",
       " 1.0756323,\n",
       " 0.97663164,\n",
       " 1.0451953,\n",
       " 1.0343912,\n",
       " 1.0338016,\n",
       " 0.92775613,\n",
       " 1.1544063,\n",
       " 1.0886431,\n",
       " 1.0114435,\n",
       " 1.0849963,\n",
       " 1.0487611,\n",
       " 1.0334198,\n",
       " 0.98967004,\n",
       " 0.99797463,\n",
       " 0.94341308,\n",
       " 1.0017259,\n",
       " 0.95700586,\n",
       " 0.94386005,\n",
       " 0.94483244,\n",
       " 0.99223918,\n",
       " 0.97153723,\n",
       " 1.0323713,\n",
       " 0.93821764,\n",
       " 1.0032139,\n",
       " 0.9807719,\n",
       " 1.0311384,\n",
       " 1.0668941,\n",
       " 0.98290992,\n",
       " 0.9744153,\n",
       " 1.0141618,\n",
       " 1.0071666,\n",
       " 0.98740691,\n",
       " 0.96981514,\n",
       " 0.90851057,\n",
       " 0.9012841,\n",
       " 1.0221238,\n",
       " 0.97541142,\n",
       " 0.89974242,\n",
       " 0.98685396,\n",
       " 0.91029847,\n",
       " 1.0056634,\n",
       " 0.94817126,\n",
       " 0.99687064,\n",
       " 0.99929541,\n",
       " 1.0062644,\n",
       " 0.98809588,\n",
       " 0.88663286,\n",
       " 0.86158562,\n",
       " 0.94725466,\n",
       " 1.0480516,\n",
       " 0.94592249,\n",
       " 0.95634878,\n",
       " 0.94589317,\n",
       " 0.87443721,\n",
       " 0.99903494,\n",
       " 0.93585968,\n",
       " 0.91400743,\n",
       " 0.94478273,\n",
       " 0.97512585,\n",
       " 1.0402148,\n",
       " 0.91934007,\n",
       " 0.94711173,\n",
       " 0.99163139,\n",
       " 1.0023758,\n",
       " 0.97081029,\n",
       " 0.93661213,\n",
       " 0.8638497,\n",
       " 0.918091,\n",
       " 0.97917855,\n",
       " 0.99371338,\n",
       " 1.0311708,\n",
       " 0.93565577,\n",
       " 0.85907161,\n",
       " 0.95330793,\n",
       " 0.91366518,\n",
       " 0.99525583,\n",
       " 0.92916089,\n",
       " 0.89038104,\n",
       " 0.95661271,\n",
       " 0.98429263,\n",
       " 0.87903821,\n",
       " 0.89499897,\n",
       " 0.92766869,\n",
       " 0.93336082,\n",
       " 0.87751639,\n",
       " 0.95971209,\n",
       " 0.95785975,\n",
       " 1.0013337,\n",
       " 0.90060008,\n",
       " 0.90261531,\n",
       " 0.87130022,\n",
       " 0.88636774,\n",
       " 0.8994745,\n",
       " 0.94140249,\n",
       " 0.83096552,\n",
       " 0.98619318,\n",
       " 0.85312879,\n",
       " 1.0037699,\n",
       " 0.95775533,\n",
       " 0.94348204,\n",
       " 0.91077805,\n",
       " 0.91355157,\n",
       " 0.97279871,\n",
       " 0.91439033,\n",
       " 0.99746031,\n",
       " 0.83029068,\n",
       " 0.96390545,\n",
       " 0.90475512,\n",
       " 0.92537874,\n",
       " 0.83850902,\n",
       " 0.88781822,\n",
       " 0.86425763,\n",
       " 0.735479,\n",
       " 0.85239071,\n",
       " 0.95015675,\n",
       " 0.92312461,\n",
       " 0.82371801,\n",
       " 0.90248954,\n",
       " 0.84138632,\n",
       " 0.89436495,\n",
       " 0.86299384,\n",
       " 0.86875916,\n",
       " 0.83780593,\n",
       " 0.75077689,\n",
       " 0.90527868,\n",
       " 0.85853827,\n",
       " 0.92795539,\n",
       " 0.8133657,\n",
       " 0.92029113,\n",
       " 0.87006742,\n",
       " 0.81056094,\n",
       " 0.84957755,\n",
       " 0.78569198,\n",
       " 0.89546198,\n",
       " 0.87043816,\n",
       " 0.91847849,\n",
       " 0.90527439,\n",
       " 0.77590549,\n",
       " 0.8221119,\n",
       " 0.79025394,\n",
       " 0.89908987,\n",
       " 0.8340075,\n",
       " 0.78628838,\n",
       " 0.85732454]"
      ]
     },
     "execution_count": 73,
     "metadata": {},
     "output_type": "execute_result"
    }
   ],
   "source": [
    "lss"
   ]
  },
  {
   "cell_type": "code",
   "execution_count": null,
   "metadata": {},
   "outputs": [],
   "source": []
  }
 ],
 "metadata": {
  "kernelspec": {
   "display_name": "Python 3",
   "language": "python",
   "name": "python3"
  },
  "language_info": {
   "codemirror_mode": {
    "name": "ipython",
    "version": 3
   },
   "file_extension": ".py",
   "mimetype": "text/x-python",
   "name": "python",
   "nbconvert_exporter": "python",
   "pygments_lexer": "ipython3",
   "version": "3.6.2"
  }
 },
 "nbformat": 4,
 "nbformat_minor": 2
}
