{
 "cells": [
  {
   "cell_type": "code",
   "execution_count": 4,
   "metadata": {},
   "outputs": [],
   "source": [
    "import numpy as np\n",
    "import matplotlib.pyplot as plt\n",
    "import xlrd\n",
    "import pandas as pd"
   ]
  },
  {
   "cell_type": "markdown",
   "metadata": {},
   "source": [
    "#### 点击与曝光间隔"
   ]
  },
  {
   "cell_type": "code",
   "execution_count": 48,
   "metadata": {
    "scrolled": true
   },
   "outputs": [
    {
     "name": "stderr",
     "output_type": "stream",
     "text": [
      "/Users/huzuoliang/app/Anaconda/anaconda/envs/tensorflow/lib/python3.6/site-packages/matplotlib/font_manager.py:1316: UserWarning: findfont: Font family ['sans-serif'] not found. Falling back to DejaVu Sans\n",
      "  (prop.get_family(), self.defaultFamily[fontext]))\n"
     ]
    },
    {
     "data": {
      "image/png": "[encoded data removed]",
      "text/plain": [
       "<matplotlib.figure.Figure at 0x1135e3630>"
      ]
     },
     "metadata": {},
     "output_type": "display_data"
    }
   ],
   "source": [
    "book = xlrd.open_workbook('/Users/huzuoliang/Desktop/train_set/ajk/seconddiff_app_list_history.xlsx')\n",
    "sheet = book.sheet_by_index(0)\n",
    "data = np.asarray([sheet.row_values(i) for i in range(1, sheet.nrows)])\n",
    "colsName = np.asarray([sheet.row_values(0)])\n",
    "c1 = pd.Series(data[:,0])\n",
    "fig = plt.figure()\n",
    "ax1 = fig.add_subplot(111)\n",
    "ax1.hist(c1,bins=100)\n",
    "plt.show()"
   ]
  },
  {
   "cell_type": "code",
   "execution_count": 49,
   "metadata": {},
   "outputs": [
    {
     "data": {
      "text/plain": [
       "(413.29326251048366, 27933.0, 0.0)"
      ]
     },
     "execution_count": 49,
     "metadata": {},
     "output_type": "execute_result"
    }
   ],
   "source": [
    "data.mean(),data.max(),data.min()"
   ]
  },
  {
   "cell_type": "code",
   "execution_count": 50,
   "metadata": {},
   "outputs": [
    {
     "data": {
      "text/plain": [
       "((271,), (3577,))"
      ]
     },
     "execution_count": 50,
     "metadata": {},
     "output_type": "execute_result"
    }
   ],
   "source": [
    "c1[c1>400].shape,c1.shape"
   ]
  },
  {
   "cell_type": "code",
   "execution_count": 51,
   "metadata": {},
   "outputs": [
    {
     "name": "stderr",
     "output_type": "stream",
     "text": [
      "/Users/huzuoliang/app/Anaconda/anaconda/envs/tensorflow/lib/python3.6/site-packages/matplotlib/font_manager.py:1316: UserWarning: findfont: Font family ['sans-serif'] not found. Falling back to DejaVu Sans\n",
      "  (prop.get_family(), self.defaultFamily[fontext]))\n"
     ]
    },
    {
     "data": {
      "image/png": "[encoded data removed]",
      "text/plain": [
       "<matplotlib.figure.Figure at 0x112148240>"
      ]
     },
     "metadata": {},
     "output_type": "display_data"
    }
   ],
   "source": [
    "# 设置图形的显示风格  \n",
    "plt.style.use('ggplot')  \n",
    "  \n",
    "# 设置中文和负号正常显示  \n",
    "plt.rcParams['font.sans-serif'] = 'Microsoft YaHei'  \n",
    "plt.rcParams['axes.unicode_minus'] = False  \n",
    "  \n",
    "# 绘图：整体乘客的年龄箱线图  \n",
    "plt.boxplot(x = c1, # 指定绘图数据  \n",
    "            patch_artist=True, # 要求用自定义颜色填充盒形图，默认白色填充  \n",
    "            showmeans=True, # 以点的形式显示均值  \n",
    "            boxprops = {'color':'black','facecolor':'#9999ff'}, # 设置箱体属性，填充色和边框色  \n",
    "            flierprops = {'marker':'o','markerfacecolor':'red','color':'black'}, # 设置异常值属性，点的形状、填充色和边框色  \n",
    "            meanprops = {'marker':'D','markerfacecolor':'indianred'}, # 设置均值点的属性，点的形状、填充色  \n",
    "            medianprops = {'linestyle':'--','color':'orange'}) # 设置中位数线的属性，线的类型和颜色  \n",
    "# 设置y轴的范围  \n",
    "plt.ylim(-10,500)  \n",
    "  \n",
    "# 去除箱线图的上边框与右边框的刻度标签  \n",
    "plt.tick_params(top='off', right='off')  \n",
    "# 显示图形  \n",
    "plt.show()  "
   ]
  },
  {
   "cell_type": "markdown",
   "metadata": {},
   "source": [
    "#### 质量分统计"
   ]
  },
  {
   "cell_type": "code",
   "execution_count": 89,
   "metadata": {},
   "outputs": [
    {
     "name": "stdout",
     "output_type": "stream",
     "text": [
      "hq_images_score\n",
      "10.0    476205\n",
      "30.0     26101\n",
      "20.0      2048\n",
      "dtype: int64\n",
      "images_num_score\n",
      "30.0    256338\n",
      "20.0    166284\n",
      "10.0     81732\n",
      "dtype: int64\n",
      "duplicate_images_score\n",
      "30.0    504124\n",
      "10.0       230\n",
      "dtype: int64\n",
      "pro_name_score\n",
      "30.0    504354\n",
      "dtype: int64\n",
      "comm_desc_score\n",
      "10.0    194844\n",
      "20.0    164370\n",
      "30.0    145140\n",
      "dtype: int64\n",
      "video_exists_score\n",
      "10.0    494331\n",
      "30.0     10023\n",
      "dtype: int64\n",
      "pro_area_score\n",
      "30.0    478935\n",
      "20.0     18719\n",
      "0.0       4034\n",
      "10.0      2666\n",
      "dtype: int64\n",
      "price_score\n",
      "30.0    436386\n",
      "20.0     38860\n",
      "10.0     18088\n",
      "0.0      11020\n",
      "dtype: int64\n",
      "freshness_score\n",
      "20.0    245772\n",
      "30.0    142941\n",
      "10.0    115641\n",
      "dtype: int64\n"
     ]
    }
   ],
   "source": [
    "book = xlrd.open_workbook('/Users/huzuoliang/Desktop/aaa.xlsx')\n",
    "sheet = book.sheet_by_index(0)\n",
    "data = np.asarray([sheet.row_values(i) for i in range(1, sheet.nrows)])\n",
    "colsName = np.asarray([sheet.row_values(0)])\n",
    "for i in range(0,sheet.ncols):\n",
    "    print(colsName[0,i])\n",
    "    c1 = pd.Series(data[:,i])\n",
    "    c = c1.value_counts()\n",
    "    print(c)\n",
    "    \n",
    "fig = plt.figure()\n",
    "ax1 = fig.add_subplot(111)\n",
    "ax1.hist(c1,bins=90)\n",
    "plt.show()"
   ]
  },
  {
   "cell_type": "code",
   "execution_count": 41,
   "metadata": {},
   "outputs": [
    {
     "data": {
      "image/png": "[encoded data removed]",
      "text/plain": [
       "<matplotlib.figure.Figure at 0x1134c92b0>"
      ]
     },
     "metadata": {},
     "output_type": "display_data"
    }
   ],
   "source": []
  },
  {
   "cell_type": "code",
   "execution_count": 82,
   "metadata": {},
   "outputs": [
    {
     "data": {
      "text/plain": [
       "array([['hq_images_score', 'images_num_score', 'duplicate_images_score',\n",
       "        'pro_name_score', 'comm_desc_score', 'video_exists_score',\n",
       "        'pro_area_score', 'price_score', 'freshness_score']], \n",
       "      dtype='<U22')"
      ]
     },
     "execution_count": 82,
     "metadata": {},
     "output_type": "execute_result"
    }
   ],
   "source": [
    "colsName"
   ]
  },
  {
   "cell_type": "code",
   "execution_count": null,
   "metadata": {
    "collapsed": true
   },
   "outputs": [],
   "source": []
  }
 ],
 "metadata": {
  "kernelspec": {
   "display_name": "Python 3",
   "language": "python",
   "name": "python3"
  },
  "language_info": {
   "codemirror_mode": {
    "name": "ipython",
    "version": 3
   },
   "file_extension": ".py",
   "mimetype": "text/x-python",
   "name": "python",
   "nbconvert_exporter": "python",
   "pygments_lexer": "ipython3",
   "version": "3.6.2"
  }
 },
 "nbformat": 4,
 "nbformat_minor": 2
}
