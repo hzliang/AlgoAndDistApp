{
 "cells": [
  {
   "cell_type": "code",
   "execution_count": 42,
   "metadata": {
    "collapsed": true
   },
   "outputs": [],
   "source": [
    "import numpy as np\n",
    "import matplotlib.pyplot as plt\n",
    "import xlrd\n",
    "import pandas as pd"
   ]
  },
  {
   "cell_type": "code",
   "execution_count": 85,
   "metadata": {
    "collapsed": true
   },
   "outputs": [],
   "source": [
    "book = xlrd.open_workbook('/Users/huzuoliang/Desktop/aaa.xlsx')"
   ]
  },
  {
   "cell_type": "code",
   "execution_count": 86,
   "metadata": {
    "collapsed": true
   },
   "outputs": [],
   "source": [
    "sheet = book.sheet_by_index(0)"
   ]
  },
  {
   "cell_type": "code",
   "execution_count": 87,
   "metadata": {
    "collapsed": true
   },
   "outputs": [],
   "source": [
    "data = np.asarray([sheet.row_values(i) for i in range(1, sheet.nrows)])"
   ]
  },
  {
   "cell_type": "code",
   "execution_count": 88,
   "metadata": {},
   "outputs": [],
   "source": [
    "colsName = np.asarray([sheet.row_values(0)])"
   ]
  },
  {
   "cell_type": "code",
   "execution_count": 89,
   "metadata": {},
   "outputs": [
    {
     "name": "stdout",
     "output_type": "stream",
     "text": [
      "hq_images_score\n",
      "10.0    476205\n",
      "30.0     26101\n",
      "20.0      2048\n",
      "dtype: int64\n",
      "images_num_score\n",
      "30.0    256338\n",
      "20.0    166284\n",
      "10.0     81732\n",
      "dtype: int64\n",
      "duplicate_images_score\n",
      "30.0    504124\n",
      "10.0       230\n",
      "dtype: int64\n",
      "pro_name_score\n",
      "30.0    504354\n",
      "dtype: int64\n",
      "comm_desc_score\n",
      "10.0    194844\n",
      "20.0    164370\n",
      "30.0    145140\n",
      "dtype: int64\n",
      "video_exists_score\n",
      "10.0    494331\n",
      "30.0     10023\n",
      "dtype: int64\n",
      "pro_area_score\n",
      "30.0    478935\n",
      "20.0     18719\n",
      "0.0       4034\n",
      "10.0      2666\n",
      "dtype: int64\n",
      "price_score\n",
      "30.0    436386\n",
      "20.0     38860\n",
      "10.0     18088\n",
      "0.0      11020\n",
      "dtype: int64\n",
      "freshness_score\n",
      "20.0    245772\n",
      "30.0    142941\n",
      "10.0    115641\n",
      "dtype: int64\n"
     ]
    }
   ],
   "source": [
    "for i in range(0,sheet.ncols):\n",
    "    print(colsName[0,i])\n",
    "    c1 = pd.Series(data[:,i])\n",
    "    c = c1.value_counts()\n",
    "    print(c)"
   ]
  },
  {
   "cell_type": "code",
   "execution_count": 73,
   "metadata": {
    "collapsed": true
   },
   "outputs": [],
   "source": [
    "c = c1.value_counts()"
   ]
  },
  {
   "cell_type": "code",
   "execution_count": 74,
   "metadata": {},
   "outputs": [
    {
     "data": {
      "text/plain": [
       "10.0    469832\n",
       "30.0     23709\n",
       "20.0      1826\n",
       "dtype: int64"
      ]
     },
     "execution_count": 74,
     "metadata": {},
     "output_type": "execute_result"
    }
   ],
   "source": [
    "c"
   ]
  },
  {
   "cell_type": "code",
   "execution_count": 41,
   "metadata": {},
   "outputs": [
    {
     "data": {
      "image/png": "[encoded data removed]",
      "text/plain": [
       "<matplotlib.figure.Figure at 0x1134c92b0>"
      ]
     },
     "metadata": {},
     "output_type": "display_data"
    }
   ],
   "source": [
    "fig = plt.figure()\n",
    "ax1 = fig.add_subplot(111)\n",
    "ax1.hist(c1,bins=90)\n",
    "plt.show()"
   ]
  },
  {
   "cell_type": "code",
   "execution_count": 82,
   "metadata": {},
   "outputs": [
    {
     "data": {
      "text/plain": [
       "array([['hq_images_score', 'images_num_score', 'duplicate_images_score',\n",
       "        'pro_name_score', 'comm_desc_score', 'video_exists_score',\n",
       "        'pro_area_score', 'price_score', 'freshness_score']], \n",
       "      dtype='<U22')"
      ]
     },
     "execution_count": 82,
     "metadata": {},
     "output_type": "execute_result"
    }
   ],
   "source": [
    "colsName"
   ]
  },
  {
   "cell_type": "code",
   "execution_count": null,
   "metadata": {
    "collapsed": true
   },
   "outputs": [],
   "source": []
  }
 ],
 "metadata": {
  "kernelspec": {
   "display_name": "Python 3",
   "language": "python",
   "name": "python3"
  },
  "language_info": {
   "codemirror_mode": {
    "name": "ipython",
    "version": 3
   },
   "file_extension": ".py",
   "mimetype": "text/x-python",
   "name": "python",
   "nbconvert_exporter": "python",
   "pygments_lexer": "ipython3",
   "version": "3.6.1"
  }
 },
 "nbformat": 4,
 "nbformat_minor": 2
}
