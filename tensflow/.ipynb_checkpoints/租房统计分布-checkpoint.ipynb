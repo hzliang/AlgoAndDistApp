{
 "cells": [
  {
   "cell_type": "code",
   "execution_count": 2,
   "metadata": {},
   "outputs": [],
   "source": [
    "import numpy as np\n",
    "import matplotlib.pyplot as plt\n",
    "import xlrd\n",
    "import pandas as pd"
   ]
  },
  {
   "cell_type": "code",
   "execution_count": 3,
   "metadata": {
    "collapsed": true
   },
   "outputs": [],
   "source": [
    "book = xlrd.open_workbook('/Users/huzuoliang/Desktop/aaa.xlsx')"
   ]
  },
  {
   "cell_type": "code",
   "execution_count": 4,
   "metadata": {
    "collapsed": true
   },
   "outputs": [],
   "source": [
    "sheet = book.sheet_by_index(0)"
   ]
  },
  {
   "cell_type": "code",
   "execution_count": 5,
   "metadata": {
    "collapsed": true
   },
   "outputs": [],
   "source": [
    "data = np.asarray([sheet.row_values(i) for i in range(1, sheet.nrows)])"
   ]
  },
  {
   "cell_type": "code",
   "execution_count": 7,
   "metadata": {},
   "outputs": [],
   "source": [
    "d = pd.Series(data[:,0])"
   ]
  },
  {
   "cell_type": "code",
   "execution_count": 11,
   "metadata": {},
   "outputs": [],
   "source": [
    "c = d.value_counts()"
   ]
  },
  {
   "cell_type": "code",
   "execution_count": 22,
   "metadata": {},
   "outputs": [
    {
     "data": {
      "text/plain": [
       "2150.0    70947\n",
       "2200.0    70567\n",
       "2250.0    64268\n",
       "2300.0    60740\n",
       "2100.0    54817\n",
       "2350.0    44764\n",
       "2050.0    23634\n",
       "2400.0    21192\n",
       "2000.0    10043\n",
       "1900.0     7885\n",
       "1950.0     6845\n",
       "1850.0     5748\n",
       "1700.0     4926\n",
       "2550.0     4626\n",
       "1800.0     4473\n",
       "2500.0     4124\n",
       "1750.0     4067\n",
       "2600.0     3437\n",
       "1650.0     3269\n",
       "2450.0     3057\n",
       "2650.0     2620\n",
       "1600.0     2450\n",
       "1500.0     2410\n",
       "2700.0     2347\n",
       "1550.0     1995\n",
       "2750.0     1761\n",
       "1450.0     1559\n",
       "1400.0      908\n",
       "2800.0      877\n",
       "1050.0      595\n",
       "1000.0      521\n",
       "1100.0      517\n",
       "950.0       464\n",
       "900.0       418\n",
       "1150.0      413\n",
       "1300.0      375\n",
       "1350.0      366\n",
       "1250.0      325\n",
       "1200.0      304\n",
       "850.0       296\n",
       "2850.0      128\n",
       "2900.0       93\n",
       "800.0        90\n",
       "2950.0       81\n",
       "3000.0       25\n",
       "dtype: int64"
      ]
     },
     "execution_count": 22,
     "metadata": {},
     "output_type": "execute_result"
    }
   ],
   "source": [
    "c"
   ]
  },
  {
   "cell_type": "code",
   "execution_count": 31,
   "metadata": {},
   "outputs": [
    {
     "data": {
      "image/png": "[encoded data removed]",
      "text/plain": [
       "<matplotlib.figure.Figure at 0x1132c48d0>"
      ]
     },
     "metadata": {},
     "output_type": "display_data"
    }
   ],
   "source": [
    "fig = plt.figure()\n",
    "ax1 = fig.add_subplot(111)\n",
    "ax1.hist(d,bins=90)\n",
    "plt.show()"
   ]
  }
 ],
 "metadata": {
  "kernelspec": {
   "display_name": "Python 3",
   "language": "python",
   "name": "python3"
  },
  "language_info": {
   "codemirror_mode": {
    "name": "ipython",
    "version": 3
   },
   "file_extension": ".py",
   "mimetype": "text/x-python",
   "name": "python",
   "nbconvert_exporter": "python",
   "pygments_lexer": "ipython3",
   "version": "3.6.1"
  }
 },
 "nbformat": 4,
 "nbformat_minor": 2
}
