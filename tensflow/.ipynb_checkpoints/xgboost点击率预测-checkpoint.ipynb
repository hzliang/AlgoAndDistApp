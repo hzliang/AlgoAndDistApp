{
 "cells": [
  {
   "cell_type": "code",
   "execution_count": 1,
   "metadata": {
    "collapsed": true
   },
   "outputs": [],
   "source": [
    "import os\n",
    "from datetime import datetime\n",
    "import pandas as pd\n",
    "import numpy as np\n",
    "from sklearn.preprocessing import LabelEncoder, OneHotEncoder\n",
    "from xgboost.sklearn import XGBClassifier\n",
    "#import matplotlib.pyplot as plt\n",
    "from dateutil.parser import parse\n",
    "from sklearn import metrics\n",
    "from sklearn.linear_model import LogisticRegression\n",
    "from utils import userDevice, handleUrl, encode\n",
    "from constants_new import *\n",
    "import matplotlib.pylab as plt"
   ]
  },
  {
   "cell_type": "code",
   "execution_count": 2,
   "metadata": {
    "collapsed": true
   },
   "outputs": [],
   "source": [
    "%run constants_new"
   ]
  },
  {
   "cell_type": "code",
   "execution_count": 3,
   "metadata": {
    "collapsed": true
   },
   "outputs": [],
   "source": [
    "train = pd.read_csv(TRAIN_PATH, sep='\\t', names=COL_NAMES)"
   ]
  },
  {
   "cell_type": "code",
   "execution_count": 5,
   "metadata": {
    "collapsed": true
   },
   "outputs": [],
   "source": [
    "oh_cols = pd.DataFrame()\n",
    "for k,v in COL_ENCODE_VOCABULARY.items():\n",
    "    cols_name_oh = pd.get_dummies(v).rename(lambda x: k +'_'+ str(v[x])).T\n",
    "    k_oh = cols_name_oh.loc[train[k]]\n",
    "    k_oh.reset_index(inplace=True)\n",
    "    # reset_index后会自动加一个index,以保存原始的列index\n",
    "    # 避免settingwithcopyWarning\n",
    "    k_oh = k_oh.drop('index', axis=1)\n",
    "    oh_cols = pd.concat([oh_cols,k_oh], axis=1)"
   ]
  },
  {
   "cell_type": "code",
   "execution_count": 6,
   "metadata": {
    "collapsed": true
   },
   "outputs": [],
   "source": [
    "train = pd.concat([train[RE_INEX_NAME],oh_cols],axis =1)"
   ]
  },
  {
   "cell_type": "code",
   "execution_count": 7,
   "metadata": {},
   "outputs": [
    {
     "data": {
      "text/html": [
       "<div>\n",
       "<style>\n",
       "    .dataframe thead tr:only-child th {\n",
       "        text-align: right;\n",
       "    }\n",
       "\n",
       "    .dataframe thead th {\n",
       "        text-align: left;\n",
       "    }\n",
       "\n",
       "    .dataframe tbody tr th {\n",
       "        vertical-align: top;\n",
       "    }\n",
       "</style>\n",
       "<table border=\"1\" class=\"dataframe\">\n",
       "  <thead>\n",
       "    <tr style=\"text-align: right;\">\n",
       "      <th></th>\n",
       "      <th>click_clock</th>\n",
       "      <th>label</th>\n",
       "      <th>room_num</th>\n",
       "      <th>hall_num</th>\n",
       "      <th>toilet_num</th>\n",
       "      <th>pro_area</th>\n",
       "      <th>pro_price</th>\n",
       "      <th>pro_floor</th>\n",
       "      <th>floor_num</th>\n",
       "      <th>in_flag</th>\n",
       "      <th>...</th>\n",
       "      <th>decorate_like_oh_0</th>\n",
       "      <th>decorate_like_oh_1</th>\n",
       "      <th>decorate_like_oh_2</th>\n",
       "      <th>decorate_like_oh_3</th>\n",
       "      <th>decorate_like_oh_4</th>\n",
       "      <th>decorate_like_oh_5</th>\n",
       "      <th>decorate_like_oh_6</th>\n",
       "      <th>rent_type_like_oh_-1</th>\n",
       "      <th>rent_type_like_oh_0</th>\n",
       "      <th>rent_type_like_oh_1</th>\n",
       "    </tr>\n",
       "  </thead>\n",
       "  <tbody>\n",
       "    <tr>\n",
       "      <th>0</th>\n",
       "      <td>16</td>\n",
       "      <td>0</td>\n",
       "      <td>3</td>\n",
       "      <td>2</td>\n",
       "      <td>2</td>\n",
       "      <td>19</td>\n",
       "      <td>1900</td>\n",
       "      <td>9</td>\n",
       "      <td>12</td>\n",
       "      <td>-1</td>\n",
       "      <td>...</td>\n",
       "      <td>0</td>\n",
       "      <td>0</td>\n",
       "      <td>0</td>\n",
       "      <td>1</td>\n",
       "      <td>0</td>\n",
       "      <td>0</td>\n",
       "      <td>0</td>\n",
       "      <td>0</td>\n",
       "      <td>1</td>\n",
       "      <td>0</td>\n",
       "    </tr>\n",
       "  </tbody>\n",
       "</table>\n",
       "<p>1 rows × 191 columns</p>\n",
       "</div>"
      ],
      "text/plain": [
       "   click_clock  label  room_num  hall_num  toilet_num  pro_area  pro_price  \\\n",
       "0           16      0         3         2           2        19       1900   \n",
       "\n",
       "   pro_floor  floor_num  in_flag         ...           decorate_like_oh_0  \\\n",
       "0          9         12       -1         ...                            0   \n",
       "\n",
       "   decorate_like_oh_1  decorate_like_oh_2  decorate_like_oh_3  \\\n",
       "0                   0                   0                   1   \n",
       "\n",
       "   decorate_like_oh_4  decorate_like_oh_5  decorate_like_oh_6  \\\n",
       "0                   0                   0                   0   \n",
       "\n",
       "   rent_type_like_oh_-1  rent_type_like_oh_0  rent_type_like_oh_1  \n",
       "0                     0                    1                    0  \n",
       "\n",
       "[1 rows x 191 columns]"
      ]
     },
     "execution_count": 7,
     "metadata": {},
     "output_type": "execute_result"
    }
   ],
   "source": [
    "train.head(1)"
   ]
  },
  {
   "cell_type": "code",
   "execution_count": 8,
   "metadata": {},
   "outputs": [
    {
     "data": {
      "text/plain": [
       "XGBClassifier(base_score=0.5, booster='gbtree', colsample_bylevel=1,\n",
       "       colsample_bytree=0.8, gamma=0.3, learning_rate=0.1,\n",
       "       max_delta_step=0, max_depth=5, min_child_weight=1, missing=None,\n",
       "       n_estimators=100, n_jobs=1, nthread=4, objective='binary:logistic',\n",
       "       random_state=0, reg_alpha=0.005, reg_lambda=1, scale_pos_weight=1,\n",
       "       seed=27, silent=True, subsample=0.8)"
      ]
     },
     "execution_count": 8,
     "metadata": {},
     "output_type": "execute_result"
    }
   ],
   "source": [
    "xgb = XGBClassifier(**PARAMS)\n",
    "predictors = [x for x in train.columns if x not in ['guid', 'pro_id', 'cs_time', 'label']]\n",
    "xgb.fit(train[predictors], train['label'], eval_metric='auc')"
   ]
  },
  {
   "cell_type": "code",
   "execution_count": 9,
   "metadata": {
    "collapsed": true
   },
   "outputs": [],
   "source": [
    "test = pd.read_csv(TEST_PATH, sep='\\t', names=COL_NAMES)\n",
    "test['pro_history_clicks'] -= test['today_pro_clicks']\n",
    "test['user_history_clicks'] -= test['today_user_clicks']\n",
    "oh_cols = pd.DataFrame()\n",
    "for k,v in COL_ENCODE_VOCABULARY.items():\n",
    "    cols_name_oh = pd.get_dummies(v).rename(lambda x: k +'_'+ str(v[x])).T\n",
    "    k_oh = cols_name_oh.loc[test[k]]\n",
    "    k_oh.reset_index(inplace=True)\n",
    "    # reset_index后会自动加一个index,以保存原始的列index\n",
    "    # 避免settingwithcopyWarning\n",
    "    k_oh = k_oh.drop('index', axis=1)\n",
    "    oh_cols = pd.concat([oh_cols,k_oh], axis=1)\n",
    "test = pd.concat([test[RE_INEX_NAME],oh_cols],axis =1)"
   ]
  },
  {
   "cell_type": "code",
   "execution_count": 10,
   "metadata": {},
   "outputs": [
    {
     "name": "stdout",
     "output_type": "stream",
     "text": [
      "AUC Score (Test): 0.797140\n",
      "Logloss Score (Test): 0.181989\n"
     ]
    },
    {
     "data": {
      "image/png": "[encoded data removed]",
      "text/plain": [
       "<matplotlib.figure.Figure at 0x10de737b8>"
      ]
     },
     "metadata": {},
     "output_type": "display_data"
    }
   ],
   "source": [
    "test['predprob'] = xgb.predict_proba(test[predictors])[:, 1]\n",
    "\n",
    "print('AUC Score (Test): %f' % metrics.roc_auc_score(test['label'], test['predprob']))\n",
    "print('Logloss Score (Test): %f' % metrics.log_loss(test['label'], test['predprob']))\n",
    "\n",
    "plt.figure(figsize=(15,4))\n",
    "feat_imp = pd.Series(xgb.get_booster().get_score(importance_type='weight')).sort_values(ascending=False)\n",
    "feat_imp.plot(kind='bar', title='Feature Importances')\n",
    "plt.show()"
   ]
  },
  {
   "cell_type": "code",
   "execution_count": 21,
   "metadata": {
    "scrolled": true
   },
   "outputs": [
    {
     "data": {
      "text/plain": [
       "0         0.064846\n",
       "1         0.064846\n",
       "2         0.075638\n",
       "3         0.075638\n",
       "4         0.029224\n",
       "5         0.029224\n",
       "6         0.010615\n",
       "7         0.053551\n",
       "8         0.120428\n",
       "9         0.015821\n",
       "10        0.110778\n",
       "11        0.065562\n",
       "12        0.075094\n",
       "13        0.075094\n",
       "14        0.075094\n",
       "15        0.061720\n",
       "16        0.131483\n",
       "17        0.113618\n",
       "18        0.113618\n",
       "19        0.075647\n",
       "20        0.075647\n",
       "21        0.061720\n",
       "22        0.102876\n",
       "23        0.102876\n",
       "24        0.093599\n",
       "25        0.103879\n",
       "26        0.102876\n",
       "27        0.040917\n",
       "28        0.040917\n",
       "29        0.000383\n",
       "            ...   \n",
       "399241    0.006208\n",
       "399242    0.009370\n",
       "399243    0.009370\n",
       "399244    0.034895\n",
       "399245    0.034895\n",
       "399246    0.000286\n",
       "399247    0.000278\n",
       "399248    0.010215\n",
       "399249    0.010338\n",
       "399250    0.000286\n",
       "399251    0.078750\n",
       "399252    0.010215\n",
       "399253    0.022176\n",
       "399254    0.000278\n",
       "399255    0.036505\n",
       "399256    0.023980\n",
       "399257    0.075306\n",
       "399258    0.000327\n",
       "399259    0.098348\n",
       "399260    0.075306\n",
       "399261    0.075306\n",
       "399262    0.036505\n",
       "399263    0.036505\n",
       "399264    0.050800\n",
       "399265    0.056596\n",
       "399266    0.103804\n",
       "399267    0.111703\n",
       "399268    0.038144\n",
       "399269    0.038144\n",
       "399270    0.038144\n",
       "Name: predprob, Length: 399271, dtype: float32"
      ]
     },
     "execution_count": 21,
     "metadata": {},
     "output_type": "execute_result"
    }
   ],
   "source": [
    "test['predprob']"
   ]
  },
  {
   "cell_type": "code",
   "execution_count": 11,
   "metadata": {},
   "outputs": [
    {
     "data": {
      "text/plain": [
       "92"
      ]
     },
     "execution_count": 11,
     "metadata": {},
     "output_type": "execute_result"
    }
   ],
   "source": [
    "len(RE_INEX_NAME)"
   ]
  },
  {
   "cell_type": "code",
   "execution_count": 12,
   "metadata": {},
   "outputs": [
    {
     "data": {
      "text/plain": [
       "click_clock             int64\n",
       "label                   int64\n",
       "room_num                int64\n",
       "hall_num                int64\n",
       "toilet_num              int64\n",
       "pro_area                int64\n",
       "pro_price               int64\n",
       "pro_floor               int64\n",
       "floor_num               int64\n",
       "in_flag                 int64\n",
       "pro_type                int64\n",
       "created_days            int64\n",
       "updated_days            int64\n",
       "many_pictures           int64\n",
       "favorites_cnt           int64\n",
       "pro_history_clicks      int64\n",
       "is_jx                   int64\n",
       "is_first                int64\n",
       "is_balcony              int64\n",
       "is_elevator             int64\n",
       "is_new                  int64\n",
       "is_park                 int64\n",
       "is_lbrz                 int64\n",
       "is_jdqq                 int64\n",
       "is_mfzj                 int64\n",
       "is_ssrz                 int64\n",
       "is_cgh                  int64\n",
       "is_qxzx                 int64\n",
       "is_qzqp                 int64\n",
       "is_dlwsj                int64\n",
       "                        ...  \n",
       "price_desc_like_oh_2    uint8\n",
       "price_desc_like_oh_3    uint8\n",
       "price_desc_like_oh_4    uint8\n",
       "price_desc_like_oh_5    uint8\n",
       "price_desc_like_oh_6    uint8\n",
       "price_desc_like_oh_7    uint8\n",
       "price_desc_like_oh_8    uint8\n",
       "area_id_like_-1         uint8\n",
       "area_id_like_0          uint8\n",
       "area_id_like_1          uint8\n",
       "area_id_like_2          uint8\n",
       "area_id_like_3          uint8\n",
       "area_id_like_4          uint8\n",
       "area_id_like_5          uint8\n",
       "area_id_like_6          uint8\n",
       "area_id_like_7          uint8\n",
       "area_id_like_8          uint8\n",
       "area_id_like_9          uint8\n",
       "area_id_like_10         uint8\n",
       "decorate_like_oh_-1     uint8\n",
       "decorate_like_oh_0      uint8\n",
       "decorate_like_oh_1      uint8\n",
       "decorate_like_oh_2      uint8\n",
       "decorate_like_oh_3      uint8\n",
       "decorate_like_oh_4      uint8\n",
       "decorate_like_oh_5      uint8\n",
       "decorate_like_oh_6      uint8\n",
       "rent_type_like_oh_-1    uint8\n",
       "rent_type_like_oh_0     uint8\n",
       "rent_type_like_oh_1     uint8\n",
       "Length: 209, dtype: object"
      ]
     },
     "execution_count": 12,
     "metadata": {},
     "output_type": "execute_result"
    }
   ],
   "source": [
    "train.dtypes"
   ]
  },
  {
   "cell_type": "code",
   "execution_count": 23,
   "metadata": {
    "collapsed": true
   },
   "outputs": [],
   "source": [
    "train.head(256).to_csv('/Users/huzuoliang/train.csv')"
   ]
  },
  {
   "cell_type": "code",
   "execution_count": 22,
   "metadata": {
    "scrolled": true
   },
   "outputs": [
    {
     "data": {
      "text/plain": [
       "(330474, 191)"
      ]
     },
     "execution_count": 22,
     "metadata": {},
     "output_type": "execute_result"
    }
   ],
   "source": [
    "train.shape"
   ]
  },
  {
   "cell_type": "code",
   "execution_count": 24,
   "metadata": {},
   "outputs": [
    {
     "data": {
      "text/plain": [
       "pro_price                              210\n",
       "pro_history_clicks                     101\n",
       "vppv_valid_zf_d_touch_sum               97\n",
       "click_clock                             95\n",
       "room_num_like                           94\n",
       "user_history_clicks                     90\n",
       "pro_area                                87\n",
       "score                                   58\n",
       "floor_num                               52\n",
       "created_days                            51\n",
       "reg_time_days                           48\n",
       "pro_floor                               46\n",
       "vppv_valid_zf_sum                       46\n",
       "pm_prop_zf_sum                          43\n",
       "price_desc_oh_-1                        42\n",
       "vppv_valid_zf_d_sum                     40\n",
       "hall_num_like                           40\n",
       "rent_type_like_oh_0                     31\n",
       "area_id_like_10                         30\n",
       "price_desc_like_oh_1                    29\n",
       "hall_num                                27\n",
       "area_id_like_4                          26\n",
       "not_pm_prop_zf_sum                      26\n",
       "price_desc_like_oh_7                    25\n",
       "price_desc_like_oh_8                    24\n",
       "broker_age                              24\n",
       "updated_days                            23\n",
       "new_prop_zf_sum                         22\n",
       "room_num                                22\n",
       "vppv_valid_zf_j_touch_sum               20\n",
       "                                      ... \n",
       "is_subway                                3\n",
       "toward_oh_4                              3\n",
       "impression_window_ad_zf_sum              3\n",
       "consume_amount_j_zf_sum                  3\n",
       "is_dlwsj                                 2\n",
       "price_desc_oh_4                          2\n",
       "revenue_accounting_zf_window_ad_sum      2\n",
       "area_id_like_6                           2\n",
       "broker_sex_oh_0                          2\n",
       "upload_videos_sum                        2\n",
       "area_id_like_1                           2\n",
       "decorate_like_oh_0                       2\n",
       "is_cgh                                   2\n",
       "nopass_videos_sum                        2\n",
       "is_school                                2\n",
       "is_ssrz                                  2\n",
       "vppv_valid_zf_pay_sum                    1\n",
       "toward_oh_0                              1\n",
       "vppv_valid_zf_pay_j_sum                  1\n",
       "video_vppv_valid_j_sum                   1\n",
       "is_new                                   1\n",
       "toward_oh_2                              1\n",
       "is_zw                                    1\n",
       "company_recharge_times_sum               1\n",
       "paymoney_num_oh_0                        1\n",
       "broker_lifecycle_oh_5                    1\n",
       "decorate_like_oh_2                       1\n",
       "broker_sex_oh_1                          1\n",
       "paymoney_num_oh_9                        1\n",
       "price_desc_oh_0                          1\n",
       "Length: 119, dtype: int64"
      ]
     },
     "execution_count": 24,
     "metadata": {},
     "output_type": "execute_result"
    }
   ],
   "source": [
    "feat_imp"
   ]
  },
  {
   "cell_type": "code",
   "execution_count": null,
   "metadata": {
    "collapsed": true
   },
   "outputs": [],
   "source": []
  }
 ],
 "metadata": {
  "kernelspec": {
   "display_name": "Python 3",
   "language": "python",
   "name": "python3"
  },
  "language_info": {
   "codemirror_mode": {
    "name": "ipython",
    "version": 3
   },
   "file_extension": ".py",
   "mimetype": "text/x-python",
   "name": "python",
   "nbconvert_exporter": "python",
   "pygments_lexer": "ipython3",
   "version": "3.6.1"
  }
 },
 "nbformat": 4,
 "nbformat_minor": 2
}
